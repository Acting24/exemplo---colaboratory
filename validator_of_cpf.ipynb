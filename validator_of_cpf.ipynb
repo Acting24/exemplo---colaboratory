{
  "nbformat": 4,
  "nbformat_minor": 0,
  "metadata": {
    "colab": {
      "provenance": [],
      "authorship_tag": "ABX9TyOFGQvLnlX7zgzL7Z9o4xXg",
      "include_colab_link": true
    },
    "kernelspec": {
      "name": "python3",
      "display_name": "Python 3"
    },
    "language_info": {
      "name": "python"
    }
  },
  "cells": [
    {
      "cell_type": "markdown",
      "metadata": {
        "id": "view-in-github",
        "colab_type": "text"
      },
      "source": [
        "<a href=\"https://colab.research.google.com/github/Acting24/exemplo---colaboratory/blob/main/validator_of_cpf.ipynb\" target=\"_parent\"><img src=\"https://colab.research.google.com/assets/colab-badge.svg\" alt=\"Open In Colab\"/></a>"
      ]
    },
    {
      "cell_type": "code",
      "execution_count": null,
      "metadata": {
        "id": "qK0FZ8N4ecOo"
      },
      "outputs": [],
      "source": []
    },
    {
      "cell_type": "code",
      "metadata": {
        "colab": {
          "base_uri": "https://localhost:8080/"
        },
        "id": "a4a887a1",
        "outputId": "960c708a-2fa0-4bd8-c848-99c805e89104"
      },
      "source": [
        "def is_cpf_format_valid(cpf_string):\n",
        "  \"\"\"\n",
        "  Verifica se a string de CPF possui exatamente 11 dígitos.\n",
        "\n",
        "  Args:\n",
        "    cpf_string: A string contendo o possível número de CPF.\n",
        "\n",
        "  Returns:\n",
        "    True se a string tiver 11 dígitos, False caso contrário.\n",
        "  \"\"\"\n",
        "  return len(cpf_string) == 11\n",
        "\n",
        "# Exemplo de uso:\n",
        "print(f\"'12345678909' tem formato válido? {is_cpf_format_valid('12345678909')}\")\n",
        "print(f\"'123.456.789-09' tem formato válido? {is_cpf_format_valid('123.456.789-09')}\")\n",
        "print(f\"'12345' tem formato válido? {is_cpf_format_valid('12345')}\")"
      ],
      "execution_count": null,
      "outputs": [
        {
          "output_type": "stream",
          "name": "stdout",
          "text": [
            "'12345678909' tem formato válido? True\n",
            "'123.456.789-09' tem formato válido? False\n",
            "'12345' tem formato válido? False\n"
          ]
        }
      ]
    },
    {
      "cell_type": "markdown",
      "metadata": {
        "id": "31a1741c"
      },
      "source": [
        "# Task\n",
        "Desenvolver um software que permita o cadastro de usuários e tenha como função principal a validação do seu CPF, seguindo a regra de negócios fornecida, utilizando o código existente em \"/cpf_validator.ipynb\" como base."
      ]
    },
    {
      "cell_type": "markdown",
      "metadata": {
        "id": "016f052a"
      },
      "source": [
        "## Limpeza do cpf\n",
        "\n",
        "### Subtask:\n",
        "Criar uma função para remover caracteres não numéricos (pontos, traços, etc.) da string do CPF, obtendo apenas os 11 dígitos.\n"
      ]
    },
    {
      "cell_type": "markdown",
      "metadata": {
        "id": "6672dc77"
      },
      "source": [
        "**Reasoning**:\n",
        "Define the `limpar_cpf` function to remove non-numeric characters from the input string using string methods.\n",
        "\n"
      ]
    },
    {
      "cell_type": "code",
      "metadata": {
        "colab": {
          "base_uri": "https://localhost:8080/"
        },
        "id": "561f2860",
        "outputId": "ec367315-f70a-4ba8-c366-dc1e36600dbf"
      },
      "source": [
        "def limpar_cpf(cpf_string):\n",
        "  \"\"\"\n",
        "  Remove caracteres não numéricos (pontos, traços, etc.) da string do CPF.\n",
        "\n",
        "  Args:\n",
        "    cpf_string: A string contendo o número de CPF com possíveis caracteres não numéricos.\n",
        "\n",
        "  Returns:\n",
        "    A string contendo apenas os dígitos numéricos do CPF.\n",
        "  \"\"\"\n",
        "  cpf_limpo = ''.join(filter(str.isdigit, cpf_string))\n",
        "  return cpf_limpo\n",
        "\n",
        "# Exemplo de uso:\n",
        "cpf_sujo = \"123.456.789-09\"\n",
        "cpf_limpo = limpar_cpf(cpf_sujo)\n",
        "print(f\"CPF original: {cpf_sujo}\")\n",
        "print(f\"CPF limpo: {cpf_limpo}\")\n",
        "\n",
        "cpf_sujo_2 = \"000.111.222-33\"\n",
        "cpf_limpo_2 = limpar_cpf(cpf_sujo_2)\n",
        "print(f\"CPF original: {cpf_sujo_2}\")\n",
        "print(f\"CPF limpo: {cpf_limpo_2}\")"
      ],
      "execution_count": null,
      "outputs": [
        {
          "output_type": "stream",
          "name": "stdout",
          "text": [
            "CPF original: 123.456.789-09\n",
            "CPF limpo: 12345678909\n",
            "CPF original: 000.111.222-33\n",
            "CPF limpo: 00011122233\n"
          ]
        }
      ]
    },
    {
      "cell_type": "markdown",
      "metadata": {
        "id": "0f8367e4"
      },
      "source": [
        "## Validação do primeiro dígito verificador\n",
        "\n",
        "### Subtask:\n",
        "Implementar a lógica para calcular e verificar o primeiro dígito verificador, conforme a regra de negócio fornecida.\n"
      ]
    },
    {
      "cell_type": "markdown",
      "metadata": {
        "id": "5fd0ba62"
      },
      "source": [
        "**Reasoning**:\n",
        "Implement the `validar_primeiro_digito` function to calculate and verify the first verification digit of a CPF.\n",
        "\n"
      ]
    },
    {
      "cell_type": "code",
      "metadata": {
        "colab": {
          "base_uri": "https://localhost:8080/"
        },
        "id": "2c402762",
        "outputId": "8f47b640-ec3d-4311-9181-559f759c0afd"
      },
      "source": [
        "def validar_primeiro_digito(cpf_limpo):\n",
        "  \"\"\"\n",
        "  Calcula e verifica o primeiro dígito verificador de um CPF.\n",
        "\n",
        "  Args:\n",
        "    cpf_limpo: A string contendo os 11 dígitos do CPF.\n",
        "\n",
        "  Returns:\n",
        "    True se o primeiro dígito verificador for válido, False caso contrário.\n",
        "  \"\"\"\n",
        "  # Verifica se o CPF tem 11 dígitos (embora a função receba 'cpf_limpo', é uma\n",
        "  # validação extra)\n",
        "  if not is_cpf_format_valid(cpf_limpo):\n",
        "      return False\n",
        "\n",
        "  cpf_sem_digitos = [int(d) for d in cpf_limpo[:9]]\n",
        "  peso = 10\n",
        "  soma = 0\n",
        "  for digito in cpf_sem_digitos:\n",
        "    soma += digito * peso\n",
        "    peso -= 1\n",
        "\n",
        "  resto = soma % 11\n",
        "  digito_calculado = 0 if resto < 2 else 11 - resto\n",
        "\n",
        "  # Compara o dígito calculado com o décimo dígito do CPF (primeiro verificador)\n",
        "  return digito_calculado == int(cpf_limpo[9])\n",
        "\n",
        "# Exemplos de uso:\n",
        "cpf_valido_primeiro_digito = \"12345678909\" # Primeiro dígito verificador é 0\n",
        "cpf_invalido_primeiro_digito = \"12345678910\" # Primeiro dígito verificador deveria ser 0\n",
        "\n",
        "print(f\"CPF '{cpf_valido_primeiro_digito}' tem primeiro dígito válido? {validar_primeiro_digito(cpf_valido_primeiro_digito)}\")\n",
        "print(f\"CPF '{cpf_invalido_primeiro_digito}' tem primeiro dígito válido? {validar_primeiro_digito(cpf_invalido_primeiro_digito)}\")"
      ],
      "execution_count": null,
      "outputs": [
        {
          "output_type": "stream",
          "name": "stdout",
          "text": [
            "CPF '12345678909' tem primeiro dígito válido? True\n",
            "CPF '12345678910' tem primeiro dígito válido? False\n"
          ]
        }
      ]
    },
    {
      "cell_type": "markdown",
      "metadata": {
        "id": "b987bb9d"
      },
      "source": [
        "## Validação do segundo dígito verificador\n",
        "\n",
        "### Subtask:\n",
        "Implementar a lógica para calcular e verificar o segundo dígito verificador, utilizando a regra de negócio fornecida.\n"
      ]
    },
    {
      "cell_type": "markdown",
      "metadata": {
        "id": "eaf90056"
      },
      "source": [
        "**Reasoning**:\n",
        "Implement the function `validar_segundo_digito` to calculate and verify the second verification digit of the CPF as per the instructions, including examples.\n",
        "\n"
      ]
    },
    {
      "cell_type": "code",
      "metadata": {
        "colab": {
          "base_uri": "https://localhost:8080/"
        },
        "id": "6b1def59",
        "outputId": "7a04ff48-6f17-4852-8429-08b6d1011ecf"
      },
      "source": [
        "def validar_segundo_digito(cpf_limpo):\n",
        "  \"\"\"\n",
        "  Calcula e verifica o segundo dígito verificador de um CPF.\n",
        "\n",
        "  Args:\n",
        "    cpf_limpo: A string contendo os 11 dígitos do CPF.\n",
        "\n",
        "  Returns:\n",
        "    True se o segundo dígito verificador for válido, False caso contrário.\n",
        "  \"\"\"\n",
        "  # Verifica se o CPF tem 11 dígitos\n",
        "  if not is_cpf_format_valid(cpf_limpo):\n",
        "      return False\n",
        "\n",
        "  # Pega os primeiros 10 dígitos (incluindo o primeiro verificador)\n",
        "  cpf_com_primeiro_digito = [int(d) for d in cpf_limpo[:10]]\n",
        "  peso = 11\n",
        "  soma = 0\n",
        "  for digito in cpf_com_primeiro_digito:\n",
        "    soma += digito * peso\n",
        "    peso -= 1\n",
        "\n",
        "  resto = soma % 11\n",
        "  digito_calculado = 0 if resto < 2 else 11 - resto\n",
        "\n",
        "  # Compara o dígito calculado com o décimo primeiro dígito do CPF (segundo verificador)\n",
        "  return digito_calculado == int(cpf_limpo[10])\n",
        "\n",
        "# Exemplos de uso:\n",
        "cpf_valido_segundo_digito = \"12345678909\" # Segundo dígito verificador é 9\n",
        "cpf_invalido_segundo_digito = \"12345678900\" # Segundo dígito verificador deveria ser 9\n",
        "\n",
        "print(f\"CPF '{cpf_valido_segundo_digito}' tem segundo dígito válido? {validar_segundo_digito(cpf_valido_segundo_digito)}\")\n",
        "print(f\"CPF '{cpf_invalido_segundo_digito}' tem segundo dígito válido? {validar_segundo_digito(cpf_invalido_segundo_digito)}\")"
      ],
      "execution_count": null,
      "outputs": [
        {
          "output_type": "stream",
          "name": "stdout",
          "text": [
            "CPF '12345678909' tem segundo dígito válido? True\n",
            "CPF '12345678900' tem segundo dígito válido? False\n"
          ]
        }
      ]
    },
    {
      "cell_type": "markdown",
      "metadata": {
        "id": "4cdd5e12"
      },
      "source": [
        "## Função de validação completa do cpf\n",
        "\n",
        "### Subtask:\n",
        "Combinar as funções de limpeza e validação dos dígitos verificadores em uma única função que retorne `True` se o CPF for válido e `False` caso contrário.\n"
      ]
    },
    {
      "cell_type": "markdown",
      "metadata": {
        "id": "dfd4f920"
      },
      "source": [
        "**Reasoning**:\n",
        "Combine the existing cleaning and validation functions into a single function to validate the entire CPF.\n",
        "\n"
      ]
    },
    {
      "cell_type": "code",
      "metadata": {
        "colab": {
          "base_uri": "https://localhost:8080/"
        },
        "id": "4f068439",
        "outputId": "98e9374c-95dd-441c-d913-fe280ff951e6"
      },
      "source": [
        "def validar_cpf(cpf_string):\n",
        "  \"\"\"\n",
        "  Valida um número de CPF.\n",
        "\n",
        "  Realiza a limpeza do CPF, verifica o formato (11 dígitos)\n",
        "  e valida os dois dígitos verificadores.\n",
        "\n",
        "  Args:\n",
        "    cpf_string: A string contendo o número de CPF com ou sem caracteres não numéricos.\n",
        "\n",
        "  Returns:\n",
        "    True se o CPF for válido, False caso contrário.\n",
        "  \"\"\"\n",
        "  cpf_limpo = limpar_cpf(cpf_string)\n",
        "\n",
        "  # 3. Verifique se o CPF limpo tem exatamente 11 dígitos\n",
        "  if not is_cpf_format_valid(cpf_limpo):\n",
        "    return False\n",
        "\n",
        "  # 4. Chame a função validar_primeiro_digito\n",
        "  if not validar_primeiro_digito(cpf_limpo):\n",
        "    return False\n",
        "\n",
        "  # 5. Chame a função validar_segundo_digito\n",
        "  if not validar_segundo_digito(cpf_limpo):\n",
        "    return False\n",
        "\n",
        "  # 6. Se todas as validações passarem\n",
        "  return True\n",
        "\n",
        "# 7. Adicione exemplos de uso\n",
        "cpf_valido_exemplo = \"123.456.789-09\" # Exemplo de CPF válido\n",
        "cpf_invalido_formato = \"12345\" # Exemplo de CPF com formato inválido\n",
        "cpf_invalido_digito1 = \"123.456.789-19\" # Exemplo de CPF com primeiro dígito verificador inválido\n",
        "cpf_invalido_digito2 = \"123.456.789-00\" # Exemplo de CPF com segundo dígito verificador inválido\n",
        "\n",
        "print(f\"CPF '{cpf_valido_exemplo}' é válido? {validar_cpf(cpf_valido_exemplo)}\")\n",
        "print(f\"CPF '{cpf_invalido_formato}' é válido? {validar_cpf(cpf_invalido_formato)}\")\n",
        "print(f\"CPF '{cpf_invalido_digito1}' é válido? {validar_cpf(cpf_invalido_digito1)}\")\n",
        "print(f\"CPF '{cpf_invalido_digito2}' é válido? {validar_cpf(cpf_invalido_digito2)}\")"
      ],
      "execution_count": null,
      "outputs": [
        {
          "output_type": "stream",
          "name": "stdout",
          "text": [
            "CPF '123.456.789-09' é válido? True\n",
            "CPF '12345' é válido? False\n",
            "CPF '123.456.789-19' é válido? False\n",
            "CPF '123.456.789-00' é válido? False\n"
          ]
        }
      ]
    },
    {
      "cell_type": "markdown",
      "metadata": {
        "id": "2cfffea5"
      },
      "source": [
        "## Simulação de cadastro de usuário\n",
        "\n",
        "### Subtask:\n",
        "Criar um exemplo simples de como essa função de validação seria usada em um processo de cadastro de usuário (sem a necessidade de um banco de dados real neste momento).\n"
      ]
    },
    {
      "cell_type": "markdown",
      "metadata": {
        "id": "93602ba9"
      },
      "source": [
        "**Reasoning**:\n",
        "Define a function to simulate user registration and use the `validar_cpf` function within it, then call this function with valid and invalid CPF examples.\n",
        "\n"
      ]
    },
    {
      "cell_type": "code",
      "metadata": {
        "colab": {
          "base_uri": "https://localhost:8080/"
        },
        "id": "c2543569",
        "outputId": "e0a8dc56-dfcb-463f-d79f-b07683df4b66"
      },
      "source": [
        "def cadastrar_usuario(nome_usuario, cpf):\n",
        "  \"\"\"\n",
        "  Simula o processo de cadastro de usuário com validação de CPF.\n",
        "\n",
        "  Args:\n",
        "    nome_usuario: O nome do usuário a ser cadastrado.\n",
        "    cpf: A string contendo o CPF do usuário.\n",
        "  \"\"\"\n",
        "  if validar_cpf(cpf):\n",
        "    print(f\"Usuário {nome_usuario} cadastrado com sucesso com o CPF {cpf}.\")\n",
        "  else:\n",
        "    print(f\"Falha no cadastro: CPF {cpf} inválido.\")\n",
        "\n",
        "# Exemplos de uso da simulação de cadastro\n",
        "cadastrar_usuario(\"João Silva\", \"123.456.789-09\") # Exemplo com CPF válido\n",
        "cadastrar_usuario(\"Maria Souza\", \"987.654.321-00\") # Exemplo com CPF inválido (dígito verificador)\n",
        "cadastrar_usuario(\"Pedro Santos\", \"12345\") # Exemplo com CPF inválido (formato)"
      ],
      "execution_count": null,
      "outputs": [
        {
          "output_type": "stream",
          "name": "stdout",
          "text": [
            "Usuário João Silva cadastrado com sucesso com o CPF 123.456.789-09.\n",
            "Usuário Maria Souza cadastrado com sucesso com o CPF 987.654.321-00.\n",
            "Falha no cadastro: CPF 12345 inválido.\n"
          ]
        }
      ]
    },
    {
      "cell_type": "markdown",
      "metadata": {
        "id": "1e33990a"
      },
      "source": [
        "## Summary:\n",
        "\n",
        "### Data Analysis Key Findings\n",
        "\n",
        "*   A function `limpar_cpf` was successfully created to remove non-numeric characters from a CPF string, resulting in a clean 11-digit string.\n",
        "*   The function `validar_primeiro_digito` was implemented to calculate and verify the first verification digit of a CPF, accurately comparing the calculated digit with the 10th digit.\n",
        "*   The function `validar_segundo_digito` was implemented to calculate and verify the second verification digit of a CPF, accurately comparing the calculated digit with the 11th digit.\n",
        "*   A comprehensive function `validar_cpf` was created to integrate the cleaning, format validation, and both verification digit validations into a single function that returns `True` for a valid CPF and `False` otherwise.\n",
        "*   A simple simulation of user registration (`cadastrar_usuario`) was implemented, demonstrating how the `validar_cpf` function can be used to check CPF validity during a registration process.\n",
        "\n",
        "### Insights or Next Steps\n",
        "\n",
        "*   The developed CPF validation functions provide a solid foundation for the user registration software.\n",
        "*   The next step would be to integrate this validation logic into a more complete user registration system, potentially involving a database to store user information.\n"
      ]
    }
  ]
}